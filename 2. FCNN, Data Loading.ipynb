{
 "cells": [
  {
   "cell_type": "markdown",
   "id": "rental-aurora",
   "metadata": {},
   "source": [
    "# Fully Connected Network and Data Loading"
   ]
  },
  {
   "cell_type": "code",
   "execution_count": null,
   "id": "representative-davis",
   "metadata": {},
   "outputs": [],
   "source": [
    "import torch\n",
    "import numpy as np\n",
    "import random, datetime\n",
    "import matplotlib.pyplot as plt"
   ]
  },
  {
   "cell_type": "markdown",
   "id": "married-survivor",
   "metadata": {},
   "source": [
    "Create here a small example set of points we want to classify.  Values with $y > \\cos^2\\left(\\frac{1}{2}\\pi x\\right)$ will be considered red, otherwise blue.  We'll construct a neural network to predict blue/red values."
   ]
  },
  {
   "cell_type": "code",
   "execution_count": null,
   "id": "emerging-prisoner",
   "metadata": {},
   "outputs": [],
   "source": [
    "N = 60\n",
    "r = np.linspace(0, 1, N)\n",
    "x, y = np.meshgrid(r, r); x = x.flatten(); y = y.flatten();\n",
    "\n",
    "red_vals = y - np.cos(0.5*x*np.pi)**2 > 0\n",
    "plt.figure(figsize=(6,6))\n",
    "plt.plot(x[red_vals],y[red_vals],'r+',markersize=5,alpha=0.75)\n",
    "plt.plot(x[np.logical_not(red_vals)],y[np.logical_not(red_vals)],'b+',markersize=5,alpha=0.75)\n",
    "plt.plot(r, np.cos(0.5*r*np.pi)**2, 'ko-', markersize=2)"
   ]
  },
  {
   "cell_type": "markdown",
   "id": "intelligent-commitment",
   "metadata": {},
   "source": [
    "Create a nice representation of our data using PyTorch's Dataset class:"
   ]
  },
  {
   "cell_type": "code",
   "execution_count": null,
   "id": "assisted-replacement",
   "metadata": {},
   "outputs": [],
   "source": [
    "class Dataset(torch.utils.data.Dataset):\n",
    "    def __init__(self, x, y, values):\n",
    "        # Load the data here!\n",
    "        x = torch.Tensor(x)\n",
    "        y = torch.Tensor(y)\n",
    "        self.xy = torch.column_stack((x,y)) # Combine x,y data into Nx2 tensor\n",
    "        self.values = torch.Tensor(values).reshape((-1,1)) # Convert values into an Nx1 tensor\n",
    "        \n",
    "    def __len__(self):\n",
    "        return self.xy.shape[0]\n",
    "    \n",
    "    def __getitem__(self, idx):\n",
    "        return {\n",
    "            'xy': self.xy[idx],\n",
    "            'values': self.values[idx]\n",
    "        }"
   ]
  },
  {
   "cell_type": "code",
   "execution_count": null,
   "id": "pressed-occasion",
   "metadata": {},
   "outputs": [],
   "source": [
    "true_vals = torch.Tensor([1 if i == True else -1 for i in red_vals])\n",
    "true_vals"
   ]
  },
  {
   "cell_type": "code",
   "execution_count": null,
   "id": "surprising-notice",
   "metadata": {},
   "outputs": [],
   "source": [
    "data = Dataset(x, y, true_vals)"
   ]
  },
  {
   "cell_type": "markdown",
   "id": "nonprofit-calcium",
   "metadata": {},
   "source": [
    "This can be indexed like a normal array"
   ]
  },
  {
   "cell_type": "code",
   "execution_count": null,
   "id": "infrared-motion",
   "metadata": {},
   "outputs": [],
   "source": [
    "data[3]"
   ]
  },
  {
   "cell_type": "markdown",
   "id": "subsequent-liechtenstein",
   "metadata": {},
   "source": [
    "Slicing works, too"
   ]
  },
  {
   "cell_type": "code",
   "execution_count": null,
   "id": "direct-pennsylvania",
   "metadata": {},
   "outputs": [],
   "source": [
    "data[::300]"
   ]
  },
  {
   "cell_type": "markdown",
   "id": "composed-delay",
   "metadata": {},
   "source": [
    "PyTorch has built-ins for sampling minibatches of the dataset.  This will automatically combine our sample data for us!"
   ]
  },
  {
   "cell_type": "code",
   "execution_count": null,
   "id": "filled-confusion",
   "metadata": {},
   "outputs": [],
   "source": [
    "batches = torch.utils.data.DataLoader(data, batch_size=10, shuffle=True)\n",
    "next(iter(batches))"
   ]
  },
  {
   "cell_type": "markdown",
   "id": "bridal-issue",
   "metadata": {},
   "source": [
    "We'll go ahead and create the neural network class.  Note that we can combine layers using a `Sequential` module."
   ]
  },
  {
   "cell_type": "code",
   "execution_count": null,
   "id": "julian-payment",
   "metadata": {},
   "outputs": [],
   "source": [
    "# Can find a helpful list of the neural network modules at https://pytorch.org/docs/stable/nn.html\n",
    "\n",
    "class FCN(torch.nn.Module):\n",
    "    def __init__(self):\n",
    "        super(FCN, self).__init__()\n",
    "        N = 20\n",
    "        self.fc_layers = torch.nn.Sequential(\n",
    "            torch.nn.Linear(2, N), torch.nn.ReLU(),\n",
    "            torch.nn.Linear(N, N), torch.nn.ReLU(),\n",
    "            torch.nn.Linear(N, 1), torch.nn.Tanh()\n",
    "        )\n",
    "\n",
    "    def forward(self, xy):\n",
    "        # Forward propagation\n",
    "        return self.fc_layers(xy)"
   ]
  },
  {
   "cell_type": "code",
   "execution_count": null,
   "id": "liable-prefix",
   "metadata": {},
   "outputs": [],
   "source": [
    "net = FCN()\n",
    "opt = torch.optim.Adam(net.parameters(), lr=0.01)\n",
    "loss_history = []"
   ]
  },
  {
   "cell_type": "markdown",
   "id": "assured-ratio",
   "metadata": {},
   "source": [
    "The `DataLoader` class from above can be used to split the dataset into batches."
   ]
  },
  {
   "cell_type": "code",
   "execution_count": null,
   "id": "executed-belfast",
   "metadata": {},
   "outputs": [],
   "source": [
    "num_epochs = 100\n",
    "batch_size = 500\n",
    "loss_fn = torch.nn.SoftMarginLoss()\n",
    "\n",
    "for i in range(num_epochs):\n",
    "    batches = torch.utils.data.DataLoader(data, batch_size=batch_size, shuffle=True)\n",
    "    for batch in batches:\n",
    "        opt.zero_grad()\n",
    "        predicted = net(batch['xy'])\n",
    "        loss = loss_fn(predicted, batch['values'])\n",
    "        loss.backward()\n",
    "        opt.step()\n",
    "\n",
    "    full_loss = loss_fn(net(data.xy), data.values)\n",
    "    loss_history.append(full_loss.item())\n",
    "\n",
    "plt.plot(loss_history)\n",
    "print('Final loss value', loss_history[-1])"
   ]
  },
  {
   "cell_type": "markdown",
   "id": "accepting-infection",
   "metadata": {},
   "source": [
    "Lets see our predictions:"
   ]
  },
  {
   "cell_type": "code",
   "execution_count": null,
   "id": "entitled-adoption",
   "metadata": {},
   "outputs": [],
   "source": [
    "plt.figure(figsize=(8,8))\n",
    "\n",
    "pred_red = (np.array(net(data.xy).detach().numpy()) > 0).flatten()\n",
    "plt.plot(x[pred_red],y[pred_red],'rs',markersize=6,alpha=0.15, label='Predicted Red')\n",
    "plt.plot(x[np.logical_not(pred_red)],y[np.logical_not(pred_red)],'bs',markersize=6,alpha=0.15, label='Predicted Blue')\n",
    "\n",
    "plt.plot(x[red_vals],y[red_vals],'r+',markersize=5, label='True Red')\n",
    "plt.plot(x[np.logical_not(red_vals)],y[np.logical_not(red_vals)],'b+',markersize=5, label='True Blue')\n",
    "plt.legend()"
   ]
  },
  {
   "cell_type": "code",
   "execution_count": null,
   "id": "consecutive-eugene",
   "metadata": {},
   "outputs": [],
   "source": []
  }
 ],
 "metadata": {
  "kernelspec": {
   "display_name": "Python 3",
   "language": "python",
   "name": "python3"
  },
  "language_info": {
   "codemirror_mode": {
    "name": "ipython",
    "version": 3
   },
   "file_extension": ".py",
   "mimetype": "text/x-python",
   "name": "python",
   "nbconvert_exporter": "python",
   "pygments_lexer": "ipython3",
   "version": "3.8.6"
  }
 },
 "nbformat": 4,
 "nbformat_minor": 5
}
